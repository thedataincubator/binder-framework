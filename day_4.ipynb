{
 "cells": [
  {
   "cell_type": "markdown",
   "id": "b3a87c1e",
   "metadata": {},
   "source": [
    "# 12-Day Programme. Day 4."
   ]
  },
  {
   "cell_type": "markdown",
   "id": "d5782927",
   "metadata": {},
   "source": [
    "The following are answers to the Day 4 requirements for TDI 12-Day programme (https://app.thedataincubator.com/12day.html)  <br /> Dean Howard <owaschuwa@gmail.com> 28-Mar-2022"
   ]
  },
  {
   "cell_type": "code",
   "execution_count": 7,
   "id": "abc3bdc1",
   "metadata": {
    "scrolled": true
   },
   "outputs": [
    {
     "name": "stdout",
     "output_type": "stream",
     "text": [
      "--2022-03-28 12:46:00--  https://data.cityofnewyork.us/resource/bug8-9f3g.json\n",
      "Resolving data.cityofnewyork.us (data.cityofnewyork.us)... 52.206.140.199, 52.206.140.205, 52.206.68.26\n",
      "Connecting to data.cityofnewyork.us (data.cityofnewyork.us)|52.206.140.199|:443... connected.\n",
      "HTTP request sent, awaiting response... 304 Not Modified\n",
      "File ‘bug8-9f3g.json’ not modified on server. Omitting download.\n",
      "\n"
     ]
    }
   ],
   "source": [
    "# Import the data from the City of New York API\n",
    "!wget -N https://data.cityofnewyork.us/resource/bug8-9f3g.json"
   ]
  },
  {
   "cell_type": "code",
   "execution_count": 14,
   "id": "e1db4e54",
   "metadata": {},
   "outputs": [],
   "source": [
    "# Import data set to DataFrame\n",
    "import pandas as pd\n",
    "df = pd.read_json('bug8-9f3g.json')"
   ]
  },
  {
   "cell_type": "markdown",
   "id": "043c8f24",
   "metadata": {},
   "source": [
    "### Questions\n",
    "1. How many different companies are represented in the data set?"
   ]
  },
  {
   "cell_type": "code",
   "execution_count": 55,
   "id": "4a11ff57",
   "metadata": {},
   "outputs": [
    {
     "name": "stdout",
     "output_type": "stream",
     "text": [
      "There are 439 different companies represented in this data set\n"
     ]
    }
   ],
   "source": [
    "n_companies = df['company_name'].nunique()\n",
    "print('There are {} different companies represented in this data set'.format(n_companies))"
   ]
  },
  {
   "cell_type": "markdown",
   "id": "05a75134",
   "metadata": {},
   "source": [
    "2. What is the total number of jobs created for businesses in Queens?"
   ]
  },
  {
   "cell_type": "code",
   "execution_count": 41,
   "id": "0f395f7b",
   "metadata": {},
   "outputs": [
    {
     "name": "stdout",
     "output_type": "stream",
     "text": [
      "There were a total number of 90.0 jobs created for businesses in Queens\n"
     ]
    }
   ],
   "source": [
    "n_jobs = df.dropna(subset=['job_created']).groupby(['city']).sum().loc['Queens', 'job_created']\n",
    "print('There were a total number of {} jobs created for businesses in Queens'.format(n_jobs))"
   ]
  },
  {
   "cell_type": "markdown",
   "id": "df1c8865",
   "metadata": {},
   "source": [
    "3. How many different unique email domain names are there in the data set"
   ]
  },
  {
   "cell_type": "code",
   "execution_count": 56,
   "id": "2d6dcfbb",
   "metadata": {},
   "outputs": [
    {
     "name": "stdout",
     "output_type": "stream",
     "text": [
      "There are 356 unique email domain names in this data set\n"
     ]
    }
   ],
   "source": [
    "n_emails = df['company_email'].dropna().str.split(pat='@', expand=True).loc[:,1].nunique()\n",
    "print('There are {} unique email domain names in this data set'.format(n_emails))"
   ]
  },
  {
   "cell_type": "markdown",
   "id": "a21ed3ba",
   "metadata": {},
   "source": [
    "4. Considering only NTAs with at least 5 listed businesses, what is the average total savings and the total jobs created for each NTA? "
   ]
  },
  {
   "cell_type": "code",
   "execution_count": 137,
   "id": "78ea29e0",
   "metadata": {},
   "outputs": [
    {
     "name": "stdout",
     "output_type": "stream",
     "text": [
      "Average savings of $469890.80 and 0 jobs created reported for Battery Park City-Lower Manhattan\n",
      "Average savings of $26140.45 and 10 jobs created reported for Bushwick South\n",
      "Average savings of $24337.39 and 0 jobs created reported for Carroll Gardens-Columbia Street-Red Hook\n",
      "Average savings of $17159.37 and 2 jobs created reported for College Point\n",
      "Average savings of $4036.30 and 0 jobs created reported for Crown Heights North\n",
      "Average savings of $59950.34 and 0 jobs created reported for DUMBO-Vinegar Hill-Downtown Brooklyn-Boerum Hill\n",
      "Average savings of $48433.09 and 15 jobs created reported for East New York\n",
      "Average savings of $13990.63 and 0 jobs created reported for East Williamsburg\n",
      "Average savings of $9753.65 and 0 jobs created reported for Greenpoint\n",
      "Average savings of $23931.40 and 0 jobs created reported for Hunters Point-Sunnyside-West Maspeth\n",
      "Average savings of $39246.02 and 12 jobs created reported for Hunts Point\n",
      "Average savings of $2760.89 and 0 jobs created reported for Manhattanville\n",
      "Average savings of $6658.28 and 10 jobs created reported for Maspeth\n",
      "Average savings of $17843.94 and 10 jobs created reported for Mott Haven-Port Morris\n",
      "Average savings of $61830.77 and 0 jobs created reported for Queensbridge-Ravenswood-Long Island City\n",
      "Average savings of $37214.02 and 0 jobs created reported for SoHo-TriBeCa-Civic Center-Little Italy\n",
      "Average savings of $17757.66 and 0 jobs created reported for Springfield Gardens South-Brookville\n",
      "Average savings of $11227.16 and 20 jobs created reported for Steinway\n",
      "Average savings of $14316.98 and 0 jobs created reported for Sunset Park West\n",
      "Average savings of $14327.42 and 0 jobs created reported for park-cemetery-etc-Brooklyn\n"
     ]
    }
   ],
   "source": [
    "nta_bool = df.groupby('nta')['company_name'].nunique() >= 5     # Find all NTAs with 5 companies or more\n",
    "nta_save = df.groupby('nta').mean()[nta_bool]['total_savings']  # Calculate average and extract total savings\n",
    "nta_jobs = df.groupby('nta').sum()[nta_bool]['job_created']     # Calculate total and extract jobs created\n",
    "nta_stat = pd.concat([nta_save, nta_jobs], axis=1).rename(columns={'total_savings':'average_savings', 'job_created':'total_jobs'})\n",
    "\n",
    "for nta in nta_stat.index:\n",
    "    print('Average savings of ${:.2f} and {:0.0f} jobs created reported for {}'.\n",
    "          format(nta_stat.loc[nta, 'average_savings'], nta_stat.loc[nta, 'total_jobs'], nta))"
   ]
  },
  {
   "cell_type": "markdown",
   "id": "41a596bd",
   "metadata": {},
   "source": [
    "5. Save your result for the previous question as a CSV file."
   ]
  },
  {
   "cell_type": "code",
   "execution_count": 135,
   "id": "67e6fa32",
   "metadata": {},
   "outputs": [],
   "source": [
    "nta_stat.to_csv('nta_groups.csv')"
   ]
  }
 ],
 "metadata": {
  "kernelspec": {
   "display_name": "Python 3 (ipykernel)",
   "language": "python",
   "name": "python3"
  },
  "language_info": {
   "codemirror_mode": {
    "name": "ipython",
    "version": 3
   },
   "file_extension": ".py",
   "mimetype": "text/x-python",
   "name": "python",
   "nbconvert_exporter": "python",
   "pygments_lexer": "ipython3",
   "version": "3.9.7"
  }
 },
 "nbformat": 4,
 "nbformat_minor": 5
}
